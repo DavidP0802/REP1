{
    "cells": [
        {
            "cell_type": "code",
            "execution_count": 1,
            "metadata": {},
            "outputs": [
                {
                    "name": "stderr",
                    "output_type": "stream",
                    "text": "/opt/conda/envs/Python-3.8-main/lib/python3.8/site-packages/openpyxl/worksheet/header_footer.py:48: UserWarning: Cannot parse header or footer so it will be ignored\n  warn(\"\"\"Cannot parse header or footer so it will be ignored\"\"\")\n"
                },
                {
                    "data": {
                        "text/html": "<div>\n<style scoped>\n    .dataframe tbody tr th:only-of-type {\n        vertical-align: middle;\n    }\n\n    .dataframe tbody tr th {\n        vertical-align: top;\n    }\n\n    .dataframe thead th {\n        text-align: right;\n    }\n</style>\n<table border=\"1\" class=\"dataframe\">\n  <thead>\n    <tr style=\"text-align: right;\">\n      <th></th>\n      <th>Department</th>\n      <th>Name</th>\n      <th>No.</th>\n      <th>Date/Time</th>\n      <th>HORA</th>\n    </tr>\n  </thead>\n  <tbody>\n    <tr>\n      <th>0</th>\n      <td>COSMETIC</td>\n      <td>Barbara Villalobos</td>\n      <td>3</td>\n      <td>2022-01-17</td>\n      <td>06:33:01</td>\n    </tr>\n    <tr>\n      <th>1</th>\n      <td>COSMETIC</td>\n      <td>Barbara Villalobos</td>\n      <td>3</td>\n      <td>2022-01-17</td>\n      <td>17:32:14</td>\n    </tr>\n    <tr>\n      <th>2</th>\n      <td>COSMETIC</td>\n      <td>Barbara Villalobos</td>\n      <td>3</td>\n      <td>2022-01-18</td>\n      <td>06:46:19</td>\n    </tr>\n    <tr>\n      <th>3</th>\n      <td>COSMETIC</td>\n      <td>Barbara Villalobos</td>\n      <td>3</td>\n      <td>2022-01-18</td>\n      <td>17:34:44</td>\n    </tr>\n    <tr>\n      <th>4</th>\n      <td>COSMETIC</td>\n      <td>Barbara Villalobos</td>\n      <td>3</td>\n      <td>2022-01-19</td>\n      <td>06:32:53</td>\n    </tr>\n  </tbody>\n</table>\n</div>",
                        "text/plain": "  Department                Name  No.  Date/Time      HORA\n0   COSMETIC  Barbara Villalobos    3 2022-01-17  06:33:01\n1   COSMETIC  Barbara Villalobos    3 2022-01-17  17:32:14\n2   COSMETIC  Barbara Villalobos    3 2022-01-18  06:46:19\n3   COSMETIC  Barbara Villalobos    3 2022-01-18  17:34:44\n4   COSMETIC  Barbara Villalobos    3 2022-01-19  06:32:53"
                    },
                    "execution_count": 1,
                    "metadata": {},
                    "output_type": "execute_result"
                }
            ],
            "source": "# The code was removed by Watson Studio for sharing."
        },
        {
            "cell_type": "code",
            "execution_count": 2,
            "metadata": {},
            "outputs": [
                {
                    "data": {
                        "text/plain": "credentials1 = <lazy>\n"
                    },
                    "metadata": {},
                    "output_type": "display_data"
                },
                {
                    "data": {
                        "text/plain": "<lazy>"
                    },
                    "execution_count": 2,
                    "metadata": {},
                    "output_type": "execute_result"
                }
            ],
            "source": "// The code was removed by Watson Studio for sharing."
        }
    ],
    "metadata": {
        "kernelspec": {
            "display_name": "Scala 2.12 with Spark",
            "language": "scala",
            "name": "scala"
        },
        "language_info": {
            "codemirror_mode": "text/x-scala",
            "file_extension": ".scala",
            "mimetype": "text/x-scala",
            "name": "scala",
            "pygments_lexer": "scala",
            "version": "2.12.12"
        }
    },
    "nbformat": 4,
    "nbformat_minor": 1
}